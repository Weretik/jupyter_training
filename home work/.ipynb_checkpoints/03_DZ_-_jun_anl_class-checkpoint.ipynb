{
 "cells": [
  {
   "cell_type": "markdown",
   "metadata": {
    "colab_type": "text",
    "id": "RbR5OTe50Za4"
   },
   "source": [
    "# Классы\n",
    "## Домашнее задание"
   ]
  },
  {
   "cell_type": "markdown",
   "metadata": {
    "colab_type": "text",
    "id": "Xh_DBCdu0Za5"
   },
   "source": [
    "### Вопросы по лекциям\n",
    "\n",
    "#### 1.\n",
    "\n",
    "Напишите название функции, которая является конструктором класса."
   ]
  },
  {
   "cell_type": "markdown",
   "metadata": {
    "colab_type": "text",
    "id": "8-Tj4AMg0Za6"
   },
   "source": [
    "**Ответ:** "
   ]
  },
  {
   "cell_type": "code",
   "execution_count": null,
   "metadata": {},
   "outputs": [],
   "source": [
    "def __init__(self):"
   ]
  },
  {
   "cell_type": "markdown",
   "metadata": {
    "colab_type": "text",
    "id": "lf14yx330Za7"
   },
   "source": [
    "#### 2.\n",
    "\n",
    "На что указывает переменная `self`?"
   ]
  },
  {
   "cell_type": "markdown",
   "metadata": {
    "colab_type": "text",
    "id": "wI-0FWlF0Za8"
   },
   "source": [
    "**Ответ:** себя"
   ]
  },
  {
   "cell_type": "markdown",
   "metadata": {
    "colab_type": "text",
    "id": "j_8_O_nl0Za8"
   },
   "source": [
    "#### 3.\n",
    "С помощью какой функции можно проверить, что некая строка является именем одного из атрибутов объекта?"
   ]
  },
  {
   "cell_type": "markdown",
   "metadata": {
    "colab_type": "text",
    "id": "5h8ASTrV0Za9"
   },
   "source": [
    "**Ответ:**"
   ]
  },
  {
   "cell_type": "code",
   "execution_count": null,
   "metadata": {},
   "outputs": [],
   "source": [
    "hasattr(function, \"str\")"
   ]
  },
  {
   "cell_type": "markdown",
   "metadata": {
    "colab_type": "text",
    "id": "G104VWgj0Za-"
   },
   "source": [
    "#### 4.\n",
    "Когда вызывается метод `__del__`? (относительно события удаления объекта)"
   ]
  },
  {
   "cell_type": "markdown",
   "metadata": {
    "colab_type": "text",
    "id": "Ukzoyxkn0Za-"
   },
   "source": [
    "**Ответ:** перед удалением обьекта"
   ]
  },
  {
   "cell_type": "markdown",
   "metadata": {
    "colab_type": "text",
    "id": "MkF-HyBM0ZbA"
   },
   "source": [
    "#### 5.\n",
    "Верно ли, что атрибут класса перекрывает атрибут объекта?"
   ]
  },
  {
   "cell_type": "markdown",
   "metadata": {
    "colab_type": "text",
    "id": "o7B52kVt0ZbC"
   },
   "source": [
    "**Ответ:** наоборот"
   ]
  },
  {
   "cell_type": "markdown",
   "metadata": {
    "colab_type": "text",
    "id": "kSwZWV2B0ZbC"
   },
   "source": [
    "#### 6.\n",
    "Можно ли атрибуты базового класса вызывать в дочернем классе? Если да, то напишите, нет ли исклчений?"
   ]
  },
  {
   "cell_type": "markdown",
   "metadata": {
    "colab_type": "text",
    "id": "6i74Koih0ZbE"
   },
   "source": [
    "**Ответ:** Можно через функцию super(). Исключение если переменаая инкапсулирована через _ _"
   ]
  },
  {
   "cell_type": "code",
   "execution_count": 15,
   "metadata": {},
   "outputs": [
    {
     "name": "stdout",
     "output_type": "stream",
     "text": [
      "43\n"
     ]
    }
   ],
   "source": [
    "class MyBaseClass:\n",
    "    my_attribute = \"43\"\n",
    "\n",
    "class MyChildClass(MyBaseClass):\n",
    "    def __init__(self):\n",
    "        self.my_attribute = \"55\"\n",
    "    def __str__(self):\n",
    "        return super().my_attribute  # вызов атрибута базового класса\n",
    "\n",
    "obj = MyChildClass()\n",
    "print(obj)\n"
   ]
  },
  {
   "cell_type": "markdown",
   "metadata": {
    "colab_type": "text",
    "id": "tl1St2O20ZbE"
   },
   "source": [
    "#### 7.\n",
    "Объясните своими словами для чего нужен метод `super`."
   ]
  },
  {
   "cell_type": "markdown",
   "metadata": {
    "colab_type": "text",
    "id": "rg3u1PoY0ZbF"
   },
   "source": [
    "**Ответ:** функцыя которая вызывает методы и атрибуты родительского класса из дочернего класса."
   ]
  },
  {
   "cell_type": "markdown",
   "metadata": {
    "colab_type": "text",
    "id": "5AiJn8ut0ZbG"
   },
   "source": [
    "### Практика\n",
    "\n",
    "1. Напишите класс `Fraction` для работы с дробями. Пусть дробь в нашем классе предстает в виде `числитель/знаменатель`. Дробное число должно создаваться по запросу `Fraction(a, b)`, где `a` – это числитель, а `b` – знаменатель дроби. \n",
    "2. Добавьте возможность сложения (сложения через оператор сложения) для дроби. Предполагается, что операция сложения может проводиться как только между дробями, так и между дробью и целым числом. Результат операции должен быть представлен в виде дроби.\n",
    "3. Добавьте возможность взятия разности (вычитания через оператор вычитания) для дробей. Предполагается, что операция вычитания может проводиться как только для двух дробей, так и для дроби и целого числа. Результат операции должен быть представлен в виде дроби.\n",
    "4. Добавьте возможность умножения (умножения через оператор умножения) для дробей. Предполагается, что операция умножения может проводиться как только для двух дробей, так и для дроби и целого числа. Результат операции должен быть представлен в виде дроби.\n",
    "5. Добавьте возможность приведения дроби к целому числу через стандартную функцию `int()`.\n",
    "6. Добавьте возможность приведения дроби к числу с плавающей точкой через стандартную функцию `float()`.\n",
    "7. Создайте дочерний класс `OperationsOnFraction` и добавьте туда собственные методы `getint` и `getfloat`, которые будут возвращать целую часть дроби и представление дроби в виде числа с плавающей точкой соответственно. \n",
    " "
   ]
  },
  {
   "cell_type": "code",
   "execution_count": 42,
   "metadata": {
    "colab": {},
    "colab_type": "code",
    "id": "ru3BJ52J0ZbG"
   },
   "outputs": [
    {
     "name": "stdout",
     "output_type": "stream",
     "text": [
      "29/6\n",
      "21/2\n",
      "1/6\n",
      "1/2\n",
      "35/6\n",
      "15/2\n",
      "2\n",
      "2.5\n",
      "9/2\n",
      "4\n",
      "4.5\n"
     ]
    }
   ],
   "source": [
    "class Fraction:\n",
    "    \n",
    "    def __init__(self, a=0, b=0):\n",
    "        self.numerator = a\n",
    "        self.denominator = b\n",
    "    \n",
    "    def __str__(self):\n",
    "        return f\"{self.numerator}/{self.denominator}\"\n",
    "    \n",
    "    def __add__(self, other):\n",
    "        \n",
    "        if isinstance(other, Fraction):\n",
    "            if self.denominator == other.denominator:\n",
    "                num = self.numerator + other.numerator\n",
    "                den = self.denominator\n",
    "                result = str(num) + \"/\" + str(den)\n",
    "            else:\n",
    "                den = self.denominator * other.denominator\n",
    "                num = (self.numerator * other.denominator) + (other.numerator * self.denominator)\n",
    "                result = str(num) + \"/\" + str(den)\n",
    "            return result\n",
    "        \n",
    "        elif isinstance(other, int):\n",
    "            den = self.denominator\n",
    "            num = self.numerator + (other * self.denominator)\n",
    "            result = str(num) + \"/\" + str(den)\n",
    "            return result\n",
    "\n",
    "    def __sub__(self, other):\n",
    "        \n",
    "        if isinstance(other, Fraction):\n",
    "            if self.denominator == other.denominator:\n",
    "                num = self.numerator - other.numerator\n",
    "                den = self.denominator\n",
    "                result = str(num) + \"/\" + str(den)\n",
    "            else:\n",
    "                den = self.denominator * other.denominator\n",
    "                num = (self.numerator * other.denominator) - (other.numerator * self.denominator)\n",
    "                result = str(num) + \"/\" + str(den)\n",
    "            return result\n",
    "        \n",
    "        elif isinstance(other, int):\n",
    "            den = self.denominator\n",
    "            num = self.numerator - (other * self.denominator)\n",
    "            result = str(num) + \"/\" + str(den)\n",
    "            return result\n",
    "        \n",
    "    def __mul__(self, other):\n",
    "        \n",
    "        if isinstance(other, Fraction):\n",
    "            den = self.denominator * other.denominator\n",
    "            num = self.numerator * other.numerator\n",
    "            result = str(num) + \"/\" + str(den)\n",
    "            return result\n",
    "        \n",
    "        elif isinstance(other, int):\n",
    "            den = self.denominator\n",
    "            num = self.numerator * other\n",
    "            result = str(num) + \"/\" + str(den)\n",
    "            return result\n",
    "        \n",
    "    def __int__(self):\n",
    "        return self.numerator // self.denominator\n",
    "        \n",
    "    def __float__(self):\n",
    "        return self.numerator / self.denominator\n",
    "    \n",
    "    \n",
    "class OperationsOnFraction(Fraction):\n",
    "    \n",
    "    def getint(self):\n",
    "        return self.numerator // self.denominator\n",
    "        \n",
    "    def getfloat(self):\n",
    "        return self.numerator / self.denominator\n",
    "    \n",
    "    \n",
    "    \n",
    "my_fr = Fraction(a=5, b=2)\n",
    "you_fr = Fraction(a=7, b=3)\n",
    "\n",
    "print(my_fr + you_fr)\n",
    "print(my_fr + 8)\n",
    "\n",
    "print(my_fr - you_fr)\n",
    "print(my_fr - 2)\n",
    "\n",
    "print(my_fr * you_fr)\n",
    "print(my_fr * 3)\n",
    "\n",
    "print(int(my_fr))\n",
    "print(float(my_fr))\n",
    "\n",
    "other_fr = OperationsOnFraction(a=9, b=2)\n",
    "print(other_fr)\n",
    "\n",
    "print(other_fr.getint())\n",
    "print(other_fr.getfloat())"
   ]
  },
  {
   "cell_type": "markdown",
   "metadata": {},
   "source": [
    "Задание 1\n",
    "Дан список вида:\n",
    "data = [\n",
    "[13, 25, 23, 34],\n",
    "[45, 32, 44, 47],\n",
    "[12, 33, 23, 95],\n",
    "[13, 53, 34, 35],\n",
    "]\n",
    "\n",
    "Напишите функцию, которая возвращает сумму элементов на диагонали. Т. е. 13+32+23+35."
   ]
  },
  {
   "cell_type": "code",
   "execution_count": 10,
   "metadata": {},
   "outputs": [],
   "source": [
    "data = [\n",
    "[13, 25, 23, 34],\n",
    "[45, 32, 44, 47],\n",
    "[12, 33, 23, 95],\n",
    "[13, 53, 34, 35],\n",
    "]"
   ]
  },
  {
   "cell_type": "code",
   "execution_count": 23,
   "metadata": {},
   "outputs": [],
   "source": [
    "def sum_diagonal(data):\n",
    "    i = 0\n",
    "    sum_d = 0\n",
    "    for line in data:\n",
    "        sum_d += line[i]\n",
    "        i += 1\n",
    "    return sum_d"
   ]
  },
  {
   "cell_type": "code",
   "execution_count": 24,
   "metadata": {},
   "outputs": [
    {
     "data": {
      "text/plain": [
       "103"
      ]
     },
     "execution_count": 24,
     "metadata": {},
     "output_type": "execute_result"
    }
   ],
   "source": [
    "sum_diagonal(data)"
   ]
  },
  {
   "cell_type": "markdown",
   "metadata": {},
   "source": [
    "\n",
    "Задание 2\n",
    "Дан список чисел, часть из которых имеют строковый тип или содержат буквы. Напишите функцию, которая возвращает сумму квадратов элементов, которые могут быть числами.\n",
    "data = [1, ‘5’, ‘abc’, 20, ‘2’]"
   ]
  },
  {
   "cell_type": "code",
   "execution_count": 36,
   "metadata": {},
   "outputs": [
    {
     "data": {
      "text/plain": [
       "True"
      ]
     },
     "execution_count": 36,
     "metadata": {},
     "output_type": "execute_result"
    }
   ],
   "source": [
    "data = [1, \"5\", \"abc\", 20, \"2\"]\n",
    "data[1].isnumeric()"
   ]
  },
  {
   "cell_type": "code",
   "execution_count": 37,
   "metadata": {},
   "outputs": [],
   "source": [
    "def square_sum_list(data):\n",
    "    square_sum = 0\n",
    "    for elem in data:\n",
    "        if str(elem).isnumeric():\n",
    "            square_sum += int(elem) ** 2\n",
    "    return square_sum"
   ]
  },
  {
   "cell_type": "code",
   "execution_count": 38,
   "metadata": {},
   "outputs": [
    {
     "data": {
      "text/plain": [
       "430"
      ]
     },
     "execution_count": 38,
     "metadata": {},
     "output_type": "execute_result"
    }
   ],
   "source": [
    "square_sum_list(data)"
   ]
  },
  {
   "cell_type": "markdown",
   "metadata": {},
   "source": [
    "Задание 3\n",
    "Напишите функцию, которая возвращает название валюты (поле ‘Name’) с максимальным значением курса с помощью сервиса https://www.cbr-xml-daily.ru/daily_json.js\n"
   ]
  },
  {
   "cell_type": "code",
   "execution_count": 40,
   "metadata": {},
   "outputs": [],
   "source": [
    "import requests"
   ]
  },
  {
   "cell_type": "code",
   "execution_count": 49,
   "metadata": {},
   "outputs": [],
   "source": [
    "def get_name_max_currency(link):\n",
    "    data = requests.get(link).json()['Valute']\n",
    "    max_currency = 0\n",
    "    for value in data.values():\n",
    "        if value[\"Value\"] > max_currency:\n",
    "            name = value[\"Name\"]\n",
    "            max_currency = value[\"Value\"]\n",
    "        \n",
    "        \n",
    "    return name"
   ]
  },
  {
   "cell_type": "code",
   "execution_count": 50,
   "metadata": {},
   "outputs": [
    {
     "data": {
      "text/plain": [
       "'СДР (специальные права заимствования)'"
      ]
     },
     "execution_count": 50,
     "metadata": {},
     "output_type": "execute_result"
    }
   ],
   "source": [
    "link = \"https://www.cbr-xml-daily.ru/daily_json.js\"\n",
    "get_name_max_currency(link)"
   ]
  },
  {
   "cell_type": "markdown",
   "metadata": {},
   "source": [
    "Задание 4\n",
    "Последнее упражнение с занятия\n",
    "\n",
    "    Добавьте в класс еще один формат, который возвращает название валюты (например, ‘Евро’).\n",
    "\n",
    "    Добавьте в класс параметр diff (со значениями True или False), который в случае значения True в методах eur и usd будет возвращать не курс валюты, а изменение по сравнению в прошлым значением."
   ]
  },
  {
   "cell_type": "code",
   "execution_count": 64,
   "metadata": {},
   "outputs": [],
   "source": [
    "class Rate:\n",
    "    \n",
    "    def __init__(self, format_currency='value'):\n",
    "        self.format = format_currency\n",
    "    \n",
    "    def exchange_rates(self):\n",
    "        self.reed = requests.get('https://www.cbr-xml-daily.ru/daily_json.js').json()['Valute']\n",
    "        return self.reed\n",
    "    \n",
    "    def make_format(self, currency):\n",
    "        response = self.exchange_rates()\n",
    "        \n",
    "        if currency in response:\n",
    "            if self.format == 'full':\n",
    "                return response[currency]\n",
    "            \n",
    "            if self.format == 'value':\n",
    "                return response[currency]['Value']\n",
    "        \n",
    "        return 'Error'\n",
    "    \n",
    "    def eur(self, diff=False):\n",
    "        if diff == False:\n",
    "            return self.make_format('EUR')\n",
    "        elif diff == True:\n",
    "            return self.exchange_rates()['EUR']['Previous']\n",
    "    \n",
    "    def usd(self, diff=False):\n",
    "        if diff == False:\n",
    "            return self.make_format('USD')\n",
    "        elif diff == True:\n",
    "            return self.exchange_rates()['USD']['Previous']\n",
    "    \n",
    "    def brl(self):\n",
    "        return self.make_format('BRL')\n",
    "    \n",
    "    def name_eur(self):\n",
    "        return self.exchange_rates()['EUR']['Name']"
   ]
  },
  {
   "cell_type": "code",
   "execution_count": 65,
   "metadata": {},
   "outputs": [
    {
     "data": {
      "text/plain": [
       "'Евро'"
      ]
     },
     "execution_count": 65,
     "metadata": {},
     "output_type": "execute_result"
    }
   ],
   "source": [
    "my_valute = Rate()\n",
    "my_valute.name_eur()"
   ]
  },
  {
   "cell_type": "code",
   "execution_count": 70,
   "metadata": {},
   "outputs": [
    {
     "data": {
      "text/plain": [
       "76.5662"
      ]
     },
     "execution_count": 70,
     "metadata": {},
     "output_type": "execute_result"
    }
   ],
   "source": [
    "my_valute.usd(diff=False)"
   ]
  },
  {
   "cell_type": "code",
   "execution_count": null,
   "metadata": {},
   "outputs": [],
   "source": []
  },
  {
   "cell_type": "markdown",
   "metadata": {},
   "source": [
    "Задание 5\n",
    "Напишите функцию, возвращающую сумму первых n чисел Фибоначчи"
   ]
  },
  {
   "cell_type": "code",
   "execution_count": 97,
   "metadata": {},
   "outputs": [],
   "source": [
    "def sum_fibo(n):\n",
    "    fibo_list = [1]\n",
    "    first_num = 1\n",
    "    second_num = 1\n",
    "    for num in range(n-1):\n",
    "        fibo_list.append(second_num)\n",
    "        first_num, second_num = second_num, first_num + second_num \n",
    "    return sum(fibo_list)"
   ]
  },
  {
   "cell_type": "code",
   "execution_count": 98,
   "metadata": {},
   "outputs": [
    {
     "data": {
      "text/plain": [
       "33"
      ]
     },
     "execution_count": 98,
     "metadata": {},
     "output_type": "execute_result"
    }
   ],
   "source": [
    "sum_fibo(7)"
   ]
  },
  {
   "cell_type": "markdown",
   "metadata": {},
   "source": [
    "Задание 6\n",
    "Напишите функцию, преобразующую произвольный список вида [‘2018-01-01’, ‘yandex’, ‘cpc’, 100] в словарь {‘2018-01-01’: {‘yandex’: {‘cpc’: 100}}}"
   ]
  },
  {
   "cell_type": "code",
   "execution_count": 100,
   "metadata": {},
   "outputs": [],
   "source": [
    "def list_to_dict(list_):\n",
    "    if len(list_) == 1:\n",
    "        return list_[0]\n",
    "    else:\n",
    "        return {list_[0]: list_to_dict(list_[1:])}"
   ]
  },
  {
   "cell_type": "code",
   "execution_count": 101,
   "metadata": {},
   "outputs": [
    {
     "data": {
      "text/plain": [
       "{'2018-01-01': {'yandex': {'cpc': 100}}}"
      ]
     },
     "execution_count": 101,
     "metadata": {},
     "output_type": "execute_result"
    }
   ],
   "source": [
    "list_ = ['2018-01-01', 'yandex', 'cpc', 100]\n",
    "list_to_dict(list_)"
   ]
  }
 ],
 "metadata": {
  "colab": {
   "collapsed_sections": [],
   "name": "jun_anl_class.ipynb",
   "provenance": []
  },
  "kernelspec": {
   "display_name": "Python 3 (ipykernel)",
   "language": "python",
   "name": "python3"
  },
  "language_info": {
   "codemirror_mode": {
    "name": "ipython",
    "version": 3
   },
   "file_extension": ".py",
   "mimetype": "text/x-python",
   "name": "python",
   "nbconvert_exporter": "python",
   "pygments_lexer": "ipython3",
   "version": "3.9.13"
  }
 },
 "nbformat": 4,
 "nbformat_minor": 1
}
