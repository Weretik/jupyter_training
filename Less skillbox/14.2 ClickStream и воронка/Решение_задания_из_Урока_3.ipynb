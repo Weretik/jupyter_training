{
 "cells": [
  {
   "cell_type": "code",
   "execution_count": null,
   "metadata": {
    "id": "lkjC87-pfCYH"
   },
   "outputs": [],
   "source": [
    "import csv\n",
    "\n",
    "funnel_by_month = {} # создаем словарь, где будут храниться словари за каждый месяц\n",
    "funnel_template = {'1_home_page':0, '2_search_page':0, '3_payment_page':0, '4_payment_confirmation_page':0}\n",
    "\n",
    "with open('click_stream.csv', mode='r') as csv_file: # открываем файл\n",
    "    csv_reader = csv.DictReader(csv_file, fieldnames=['ID','page','date']) # читаем файл\n",
    "    \n",
    "    # проходим циклом по объекту csv_reader\n",
    "    for row in csv_reader: # берем строку из объекта csv_reader\n",
    "\n",
    "        page = list(row.items())[1][1] # вытаскиваем название страницы\n",
    "        event_date = list(row.items())[2][1][:-3] # вытаскиваем дату в формате YYYY-MM\n",
    "        \n",
    "        # проверяем существует ли ключ со значением event_date в словаре\n",
    "        if event_date not in funnel_by_month: # если нет\n",
    "            funnel_by_month[event_date] = funnel_template.copy() # создаем ключ, в значение копируем заготовку\n",
    "\n",
    "        # проверяем условиями и прибавляем единицу к нужному ключу в словаре\n",
    "        if page == '1_home_page':\n",
    "            funnel_by_month[event_date]['1_home_page'] += 1\n",
    "        elif page == '2_search_page':\n",
    "            funnel_by_month[event_date]['2_search_page'] += 1\n",
    "        elif page == '3_payment_page':\n",
    "            funnel_by_month[event_date]['3_payment_page'] += 1\n",
    "        else:\n",
    "            funnel_by_month[event_date]['4_payment_confirmation_page'] += 1\n",
    "            \n",
    "funnel_by_month        "
   ]
  }
 ],
 "metadata": {
  "colab": {
   "collapsed_sections": [],
   "name": "Решение задания из Урока 3.ipynb",
   "private_outputs": true,
   "provenance": []
  },
  "kernelspec": {
   "display_name": "Python 3 (ipykernel)",
   "language": "python",
   "name": "python3"
  },
  "language_info": {
   "codemirror_mode": {
    "name": "ipython",
    "version": 3
   },
   "file_extension": ".py",
   "mimetype": "text/x-python",
   "name": "python",
   "nbconvert_exporter": "python",
   "pygments_lexer": "ipython3",
   "version": "3.9.13"
  }
 },
 "nbformat": 4,
 "nbformat_minor": 1
}
