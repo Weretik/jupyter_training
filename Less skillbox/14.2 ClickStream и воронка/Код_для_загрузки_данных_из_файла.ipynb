{
 "cells": [
  {
   "cell_type": "code",
   "execution_count": 24,
   "metadata": {
    "id": "uBCo6ukdfrIs"
   },
   "outputs": [
    {
     "name": "stdout",
     "output_type": "stream",
     "text": [
      "{'1_home_page': 90400, '2_search_page': 45200, '3_payment_page': 6030, '4_payment_confirmation_page': 452}\n"
     ]
    }
   ],
   "source": [
    "import csv\n",
    "\n",
    "with open('click_stream.csv', mode='r') as csv_file:\n",
    "    csv_reader = csv.DictReader(csv_file, fieldnames=['ID','page','date'])\n",
    "    i = 0\n",
    "    page_dict = {}\n",
    "    for row in csv_reader:\n",
    "        page = list(row.items())[1][1]\n",
    "        \n",
    "        if page not in page_dict:\n",
    "            page_dict[page] = 1\n",
    "        elif page in page_dict:\n",
    "            page_dict[page] += 1\n",
    "            \n",
    "    print(page_dict)\n",
    "            \n",
    "#         i += 1\n",
    "#         if i == 10:\n",
    "#             break"
   ]
  },
  {
   "cell_type": "code",
   "execution_count": 77,
   "metadata": {},
   "outputs": [
    {
     "name": "stdout",
     "output_type": "stream",
     "text": [
      "{'1_home_page': 22600, '2_search_page': 13554, '3_payment_page': 2390, '4_payment_confirmation_page': 189}\n",
      "{'1_home_page': 22600, '2_search_page': 13687, '3_payment_page': 2412, '4_payment_confirmation_page': 173}\n",
      "{'1_home_page': 22600, '2_search_page': 8879, '3_payment_page': 631, '4_payment_confirmation_page': 44}\n",
      "{'1_home_page': 22600, '2_search_page': 9080, '3_payment_page': 597, '4_payment_confirmation_page': 46}\n"
     ]
    }
   ],
   "source": [
    "with open('click_stream.csv', mode='r') as csv_file:\n",
    "    \n",
    "    i = 0\n",
    "    filter_date = {\n",
    "        '2015-01':{'1_home_page':0, '2_search_page':0, '3_payment_page':0, '4_payment_confirmation_page':0},\n",
    "        '2015-02':{'1_home_page':0, '2_search_page':0, '3_payment_page':0, '4_payment_confirmation_page':0},\n",
    "        '2015-03':{'1_home_page':0, '2_search_page':0, '3_payment_page':0, '4_payment_confirmation_page':0},\n",
    "        '2015-04':{'1_home_page':0, '2_search_page':0, '3_payment_page':0, '4_payment_confirmation_page':0}\n",
    "    }\n",
    "    for line in csv_file:\n",
    "        date,page = line.strip().split(',')[2][:-3], line.strip().split(',')[1]\n",
    "        \n",
    "        if date == '2015-01':\n",
    "            filter_date[date][page] += 1\n",
    "        elif date == '2015-02':\n",
    "            filter_date[date][page] += 1  \n",
    "        elif date == '2015-03':\n",
    "            filter_date[date][page] += 1   \n",
    "        else:\n",
    "            filter_date[date][page] += 1\n",
    "#         i += 1\n",
    "#         if i == 10:\n",
    "#             break\n",
    "            \n",
    "    print(filter_date['2015-01'])\n",
    "    print(filter_date['2015-02'])\n",
    "    print(filter_date['2015-03'])\n",
    "    print(filter_date['2015-04'])\n",
    "        \n",
    "    "
   ]
  },
  {
   "cell_type": "code",
   "execution_count": 69,
   "metadata": {},
   "outputs": [
    {
     "name": "stdout",
     "output_type": "stream",
     "text": [
      "{'1_home_page': 22600, '2_search_page': 13554, '3_payment_page': 2390, '4_payment_confirmation_page': 189}\n",
      "{'1_home_page': 22600, '2_search_page': 13687, '3_payment_page': 2412, '4_payment_confirmation_page': 173}\n",
      "{'1_home_page': 22600, '2_search_page': 8879, '3_payment_page': 631, '4_payment_confirmation_page': 44}\n",
      "{'1_home_page': 22600, '2_search_page': 9080, '3_payment_page': 597, '4_payment_confirmation_page': 46}\n"
     ]
    }
   ],
   "source": [
    "with open('click_stream.csv', mode='r') as csv_file:\n",
    "    \n",
    "    funnel_by_month = {}\n",
    "    funnel_template = {'1_home_page':0, '2_search_page':0, '3_payment_page':0, '4_payment_confirmation_page':0}\n",
    "    \n",
    "    for line in csv_file:\n",
    "        event_date = line.strip().split(',')[2][:-3]\n",
    "        page = line.strip().split(',')[1]\n",
    "        \n",
    "        if event_date not in funnel_by_month:\n",
    "            funnel_by_month[event_date] = funnel_template.copy()\n",
    "            \n",
    "        if page == '1_home_page':\n",
    "            funnel_by_month[event_date][page] += 1\n",
    "        elif page == '2_search_page':\n",
    "            funnel_by_month[event_date][page] += 1\n",
    "        elif page == '3_payment_page':\n",
    "            funnel_by_month[event_date][page] += 1\n",
    "        else:\n",
    "            funnel_by_month[event_date][page] += 1\n",
    "            \n",
    "        \n",
    "    print(funnel_by_month['2015-01'])\n",
    "    print(funnel_by_month['2015-02'])\n",
    "    print(funnel_by_month['2015-03'])\n",
    "    print(funnel_by_month['2015-04'])\n",
    "    "
   ]
  },
  {
   "cell_type": "code",
   "execution_count": 85,
   "metadata": {},
   "outputs": [
    {
     "name": "stdout",
     "output_type": "stream",
     "text": [
      "Male\n",
      "Desktop\n",
      "{'1_home_page': 7504, '2_search_page': 3678, '3_payment_page': 596, '4_payment_confirmation_page': 27}\n",
      "{'1_home_page': 7602, '2_search_page': 3832, '3_payment_page': 586, '4_payment_confirmation_page': 28}\n",
      "{'1_home_page': 7538, '2_search_page': 3663, '3_payment_page': 134, '4_payment_confirmation_page': 8}\n",
      "{'1_home_page': 7559, '2_search_page': 3836, '3_payment_page': 164, '4_payment_confirmation_page': 13}\n",
      "Male\n",
      "Mobile\n",
      "{'1_home_page': 3682, '2_search_page': 2963, '3_payment_page': 551, '4_payment_confirmation_page': 53}\n",
      "{'1_home_page': 3799, '2_search_page': 3035, '3_payment_page': 591, '4_payment_confirmation_page': 59}\n",
      "{'1_home_page': 3812, '2_search_page': 762, '3_payment_page': 160, '4_payment_confirmation_page': 10}\n",
      "{'1_home_page': 3829, '2_search_page': 755, '3_payment_page': 148, '4_payment_confirmation_page': 13}\n",
      "Female\n",
      "Desktop\n",
      "{'1_home_page': 7504, '2_search_page': 3678, '3_payment_page': 596, '4_payment_confirmation_page': 27}\n",
      "{'1_home_page': 7602, '2_search_page': 3832, '3_payment_page': 586, '4_payment_confirmation_page': 28}\n",
      "{'1_home_page': 7538, '2_search_page': 3663, '3_payment_page': 134, '4_payment_confirmation_page': 8}\n",
      "{'1_home_page': 7559, '2_search_page': 3836, '3_payment_page': 164, '4_payment_confirmation_page': 13}\n",
      "Female\n",
      "Mobile\n",
      "{'1_home_page': 3682, '2_search_page': 2963, '3_payment_page': 551, '4_payment_confirmation_page': 53}\n",
      "{'1_home_page': 3799, '2_search_page': 3035, '3_payment_page': 591, '4_payment_confirmation_page': 59}\n",
      "{'1_home_page': 3812, '2_search_page': 762, '3_payment_page': 160, '4_payment_confirmation_page': 10}\n",
      "{'1_home_page': 3829, '2_search_page': 755, '3_payment_page': 148, '4_payment_confirmation_page': 13}\n"
     ]
    }
   ],
   "source": [
    "with open('click_stream3.csv', mode='r') as csv_file:\n",
    "    \n",
    "    i = 0\n",
    "    data_dict = {\n",
    "        'Desktop':{\n",
    "            '2015-01':{'1_home_page':0, '2_search_page':0, '3_payment_page':0, '4_payment_confirmation_page':0},\n",
    "            '2015-02':{'1_home_page':0, '2_search_page':0, '3_payment_page':0, '4_payment_confirmation_page':0},\n",
    "            '2015-03':{'1_home_page':0, '2_search_page':0, '3_payment_page':0, '4_payment_confirmation_page':0},\n",
    "            '2015-04':{'1_home_page':0, '2_search_page':0, '3_payment_page':0, '4_payment_confirmation_page':0}\n",
    "            },\n",
    "    \n",
    "        'Mobile':{\n",
    "            '2015-01':{'1_home_page':0, '2_search_page':0, '3_payment_page':0, '4_payment_confirmation_page':0},\n",
    "            '2015-02':{'1_home_page':0, '2_search_page':0, '3_payment_page':0, '4_payment_confirmation_page':0},\n",
    "            '2015-03':{'1_home_page':0, '2_search_page':0, '3_payment_page':0, '4_payment_confirmation_page':0},\n",
    "            '2015-04':{'1_home_page':0, '2_search_page':0, '3_payment_page':0, '4_payment_confirmation_page':0}\n",
    "            }\n",
    "    }\n",
    "    filter_by_male = data_dict.copy()\n",
    "    filter_by_female = data_dict.copy()\n",
    "    \n",
    "    for line in csv_file:\n",
    "        date = line.strip().split(',')[2][:-3]\n",
    "        page = line.strip().split(',')[1]\n",
    "        device = line.strip().split(',')[3]\n",
    "        gender = line.strip().split(',')[4]\n",
    "        \n",
    "        if gender == 'Male':\n",
    "            if date == '2015-01':\n",
    "                filter_by_male[device][date][page] += 1\n",
    "            elif date == '2015-02':\n",
    "                filter_by_male[device][date][page] += 1  \n",
    "            elif date == '2015-03':\n",
    "                filter_by_male[device][date][page] += 1   \n",
    "            else:\n",
    "                filter_by_male[device][date][page] += 1\n",
    "                \n",
    "        elif device == 'Female':\n",
    "            if date == '2015-01':\n",
    "                filter_by_female[device][date][page] += 1\n",
    "            elif date == '2015-02':\n",
    "                filter_by_female[device][date][page] += 1  \n",
    "            elif date == '2015-03':\n",
    "                filter_by_female[device][date][page] += 1   \n",
    "            else:\n",
    "                filter_by_female[device][date][page] += 1\n",
    "\n",
    "    \n",
    "    print('Male')\n",
    "    print('Desktop')\n",
    "    print(filter_by_male['Desktop']['2015-01'])\n",
    "    print(filter_by_male['Desktop']['2015-02'])\n",
    "    print(filter_by_male['Desktop']['2015-03'])\n",
    "    print(filter_by_male['Desktop']['2015-04'])\n",
    "    print('Male')\n",
    "    print('Mobile')\n",
    "    print(filter_by_female['Mobile']['2015-01'])\n",
    "    print(filter_by_female['Mobile']['2015-02'])\n",
    "    print(filter_by_female['Mobile']['2015-03'])\n",
    "    print(filter_by_female['Mobile']['2015-04'])\n",
    "    print('Female')\n",
    "    print('Desktop')        \n",
    "    print(filter_by_male['Desktop']['2015-01'])\n",
    "    print(filter_by_male['Desktop']['2015-02'])\n",
    "    print(filter_by_male['Desktop']['2015-03'])\n",
    "    print(filter_by_male['Desktop']['2015-04'])\n",
    "    print('Female')\n",
    "    print('Mobile')\n",
    "    print(filter_by_female['Mobile']['2015-01'])\n",
    "    print(filter_by_female['Mobile']['2015-02'])\n",
    "    print(filter_by_female['Mobile']['2015-03'])\n",
    "    print(filter_by_female['Mobile']['2015-04'])"
   ]
  },
  {
   "cell_type": "code",
   "execution_count": null,
   "metadata": {},
   "outputs": [],
   "source": []
  }
 ],
 "metadata": {
  "colab": {
   "collapsed_sections": [],
   "name": "Код для загрузки данных из файла.ipynb",
   "private_outputs": true,
   "provenance": []
  },
  "kernelspec": {
   "display_name": "Python 3 (ipykernel)",
   "language": "python",
   "name": "python3"
  },
  "language_info": {
   "codemirror_mode": {
    "name": "ipython",
    "version": 3
   },
   "file_extension": ".py",
   "mimetype": "text/x-python",
   "name": "python",
   "nbconvert_exporter": "python",
   "pygments_lexer": "ipython3",
   "version": "3.9.13"
  }
 },
 "nbformat": 4,
 "nbformat_minor": 1
}
